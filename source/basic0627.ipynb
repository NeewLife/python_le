{
  "nbformat": 4,
  "nbformat_minor": 0,
  "metadata": {
    "colab": {
      "name": "basic0627.ipynb",
      "provenance": [],
      "authorship_tag": "ABX9TyOySfqUa6Q20hjJBQJjAHJd",
      "include_colab_link": true
    },
    "kernelspec": {
      "name": "python3",
      "display_name": "Python 3"
    },
    "language_info": {
      "name": "python"
    },
    "accelerator": "GPU",
    "gpuClass": "standard"
  },
  "cells": [
    {
      "cell_type": "markdown",
      "metadata": {
        "id": "view-in-github",
        "colab_type": "text"
      },
      "source": [
        "<a href=\"https://colab.research.google.com/github/NeewLife/python_le/blob/main/source/basic0627.ipynb\" target=\"_parent\"><img src=\"https://colab.research.google.com/assets/colab-badge.svg\" alt=\"Open In Colab\"/></a>"
      ]
    },
    {
      "cell_type": "markdown",
      "source": [
        "## 제목1\n",
        "- 파이썬 입문 ㄴㄴ\n"
      ],
      "metadata": {
        "id": "ufOQggT6kKnf"
      }
    },
    {
      "cell_type": "markdown",
      "source": [
        "### 소제목 1 \n",
        "- 여기는 소제목임다"
      ],
      "metadata": {
        "id": "Dif_E8wZkOcE"
      }
    },
    {
      "cell_type": "code",
      "source": [
        "print(\"Hello World\")"
      ],
      "metadata": {
        "colab": {
          "base_uri": "https://localhost:8080/"
        },
        "id": "gV6IlwhzkV8_",
        "outputId": "21d3d63a-2338-4fcf-a6cb-c66c46f2b792"
      },
      "execution_count": 1,
      "outputs": [
        {
          "output_type": "stream",
          "name": "stdout",
          "text": [
            "Hello World\n"
          ]
        }
      ]
    },
    {
      "cell_type": "markdown",
      "source": [
        "## 제목2\n",
        "- 제목 2 섹션입니다."
      ],
      "metadata": {
        "id": "WkDrP_EZkejE"
      }
    },
    {
      "cell_type": "markdown",
      "source": [
        "### 소제목 1\n",
        "- 라이브러리를 불러온다."
      ],
      "metadata": {
        "id": "TqnghD1GkhOs"
      }
    },
    {
      "cell_type": "code",
      "source": [
        "print(1+1)"
      ],
      "metadata": {
        "colab": {
          "base_uri": "https://localhost:8080/"
        },
        "id": "i5cEsyC9kmLU",
        "outputId": "8a73c53c-9546-4cfd-dbc9-d2066c0501c6"
      },
      "execution_count": 2,
      "outputs": [
        {
          "output_type": "stream",
          "name": "stdout",
          "text": [
            "2\n"
          ]
        }
      ]
    }
  ]
}